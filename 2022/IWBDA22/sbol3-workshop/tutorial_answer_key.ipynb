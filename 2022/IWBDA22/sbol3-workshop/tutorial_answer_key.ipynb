{
 "cells": [
  {
   "cell_type": "markdown",
   "metadata": {},
   "source": [
    "# IWBDA 2022 SBOL 3 Tutorial\n",
    "\n",
    "### October 2022\n",
    "This tutorial code goes with the slides at:\n",
    "\n",
    "https://github.com/SynBioDex/Community-Media/blob/master/2022/IWBDA22/sbol3-workshop/pySBOL3-IWBDA-2022.pptx"
   ]
  },
  {
   "cell_type": "markdown",
   "metadata": {},
   "source": [
    "Import the module"
   ]
  },
  {
   "cell_type": "code",
   "execution_count": null,
   "metadata": {},
   "outputs": [],
   "source": [
    "from sbol3 import *\n",
    "from sbol_utilities.calculate_sequences import compute_sequence\n",
    "from sbol_utilities.component import *\n",
    "import tyto"
   ]
  },
  {
   "cell_type": "markdown",
   "metadata": {},
   "source": [
    "Set the default namespace for new objects and create a document"
   ]
  },
  {
   "cell_type": "code",
   "execution_count": null,
   "metadata": {},
   "outputs": [],
   "source": [
    "set_namespace('https://synbiohub.org/public/igem/')\n",
    "doc = Document()"
   ]
  },
  {
   "cell_type": "markdown",
   "metadata": {},
   "source": [
    "# Slide 26: GFP expression cassette\n",
    "Construct a simple part and add it to the Document.\n",
    "\n",
    "Component  \n",
    "identity: iGEM#I13504  \n",
    "name: \"iGEM 2016 interlab reporter\"  \n",
    "description: \"GFP expression cassette used for 2016 iGEM interlab\"  \n",
    "type: SBO:0000251 (DNA)  \n",
    "role: SO:0000804 (Engineered Region)  \n",
    "\n",
    "Which properties are required?  Which properties behave as lists?"
   ]
  },
  {
   "cell_type": "code",
   "execution_count": null,
   "metadata": {},
   "outputs": [],
   "source": [
    "i13504 = Component('i13504', SBO_DNA)\n",
    "i13504.name = 'iGEM 2016 interlab reporter'\n",
    "i13504.description = 'GFP expression cassette used for 2016 iGEM interlab study'\n",
    "i13504.roles.append(tyto.SO.engineered_region)"
   ]
  },
  {
   "cell_type": "markdown",
   "metadata": {},
   "source": [
    "Add the GFP expression cassette to the document"
   ]
  },
  {
   "cell_type": "code",
   "execution_count": null,
   "metadata": {},
   "outputs": [],
   "source": [
    "doc.add(i13504)"
   ]
  },
  {
   "cell_type": "markdown",
   "metadata": {},
   "source": [
    "# Slide 28: expression cassette parts\n",
    "Here we will create a part-subpart hierarchy. We will also start using (SBOL-Utilities)[https://github.com/synbiodex/sbol-utilities] to make it easier to create parts and to assemble those parts into a hierarchy.\n",
    "\n",
    "First, create the RBS component...\n",
    "\n",
    "Component  \n",
    "identity: B0034  \n",
    "name: RBS (Elowitz 1999)"
   ]
  },
  {
   "cell_type": "code",
   "execution_count": null,
   "metadata": {},
   "outputs": [],
   "source": [
    "b0034, b0034_seq = doc.add(rbs('B0034', sequence='aaagaggagaaa', name='RBS (Elowitz 1999)'))"
   ]
  },
  {
   "cell_type": "markdown",
   "metadata": {},
   "source": [
    "Next, create the GFP component\n",
    "\n",
    "identity: E0040  \n",
    "name: GFP"
   ]
  },
  {
   "cell_type": "code",
   "execution_count": null,
   "metadata": {},
   "outputs": [],
   "source": [
    "e0040_sequence = 'atgcgtaaaggagaagaacttttcactggagttgtcccaattcttgttgaattagatggtgatgttaatgggcacaaattttctgtcagtggagagggtgaaggtgatgcaacatacggaaaacttacccttaaatttatttgcactactggaaaactacctgttccatggccaacacttgtcactactttcggttatggtgttcaatgctttgcgagatacccagatcatatgaaacagcatgactttttcaagagtgccatgcccgaaggttatgtacaggaaagaactatatttttcaaagatgacgggaactacaagacacgtgctgaagtcaagtttgaaggtgatacccttgttaatagaatcgagttaaaaggtattgattttaaagaagatggaaacattcttggacacaaattggaatacaactataactcacacaatgtatacatcatggcagacaaacaaaagaatggaatcaaagttaacttcaaaattagacacaacattgaagatggaagcgttcaactagcagaccattatcaacaaaatactccaattggcgatggccctgtccttttaccagacaaccattacctgtccacacaatctgccctttcgaaagatcccaacgaaaagagagaccacatggtccttcttgagtttgtaacagctgctgggattacacatggcatggatgaactatacaaataataa'\n",
    "e0040, _ = doc.add(cds('E0040', sequence=e0040_sequence, name='GFP'))"
   ]
  },
  {
   "cell_type": "markdown",
   "metadata": {},
   "source": [
    "Finally, create the terminator\n",
    "\n",
    "identity: B0015  \n",
    "name: double terminator"
   ]
  },
  {
   "cell_type": "code",
   "execution_count": null,
   "metadata": {},
   "outputs": [],
   "source": [
    "b0015_sequence = 'ccaggcatcaaataaaacgaaaggctcagtcgaaagactgggcctttcgttttatctgttgtttgtcggtgaacgctctctactagagtcacactggctcaccttcgggtgggcctttctgcgtttata'\n",
    "b0015, _ = doc.add(terminator('B0015', sequence=b0015_sequence, name='double terminator'))"
   ]
  },
  {
   "cell_type": "markdown",
   "metadata": {},
   "source": [
    "Now construct the part-subpart hierarchy"
   ]
  },
  {
   "cell_type": "code",
   "execution_count": null,
   "metadata": {},
   "outputs": [],
   "source": [
    "order(b0034, e0040, i13504)\n",
    "order(e0040, b0015, i13504)"
   ]
  },
  {
   "cell_type": "markdown",
   "metadata": {},
   "source": [
    "# Slide 30: Location of a SubComponent\n",
    "\n",
    "Here we add base coordinates to SubComponents.\n",
    "\n",
    "But first, use `compute_sequence` to get the full sequence for the BBa_I13504 device \n",
    "\n",
    "See http://parts.igem.org/Part:BBa_I13504"
   ]
  },
  {
   "cell_type": "code",
   "execution_count": null,
   "metadata": {},
   "outputs": [],
   "source": [
    "i13504_seq = compute_sequence(i13504)"
   ]
  },
  {
   "cell_type": "markdown",
   "metadata": {},
   "source": [
    "Add a Range to the B0015 SubComponent. The base coordinates for B0015 are as follows:\n",
    "\n",
    "Range  \n",
    "start: 746  \n",
    "end: 875  \n",
    "\n",
    "pySBOL3 does not yet have an easy way to locate features based on arbitrary criteria so we have to loop over the list to find the B0015 SubComponent we are looking for"
   ]
  },
  {
   "cell_type": "code",
   "execution_count": null,
   "metadata": {},
   "outputs": [],
   "source": [
    "b0015_subcomponent = next(f for f in i13504.features if f.instance_of == b0015.identity)\n",
    "b0015_subcomponent.locations.append(Range(i13504_seq, 746, 875))"
   ]
  },
  {
   "cell_type": "markdown",
   "metadata": {},
   "source": [
    "# Slide 32: GFP production from expression cassette\n",
    "In this example, we will create a system representation that includes DNA, proteins, and interactions.\n",
    "\n",
    "First, create the system representation.  `functional_component` creates this for us.\n",
    "\n",
    "Component  \n",
    "identity: i13504_system"
   ]
  },
  {
   "cell_type": "code",
   "execution_count": null,
   "metadata": {},
   "outputs": [],
   "source": [
    "i13504_system = functional_component('i13504_system')\n",
    "doc.add(i13504_system)"
   ]
  },
  {
   "cell_type": "markdown",
   "metadata": {},
   "source": [
    "The system has two physical subcomponents, the expression construct and the expressed GFP protein. We already created the expression construct. Now create the GFP protein.\n",
    "`ed_protein` creates an \"externally defined protein\""
   ]
  },
  {
   "cell_type": "code",
   "execution_count": null,
   "metadata": {},
   "outputs": [],
   "source": [
    "gfp = add_feature(i13504_system, ed_protein('https://www.fpbase.org/protein/gfpmut3/', name='GFP'))"
   ]
  },
  {
   "cell_type": "markdown",
   "metadata": {},
   "source": [
    "Now create the part-subpart hierarchy."
   ]
  },
  {
   "cell_type": "code",
   "execution_count": null,
   "metadata": {},
   "outputs": [],
   "source": [
    "i13504_subcomponent = add_feature(i13504_system, i13504)"
   ]
  },
  {
   "cell_type": "markdown",
   "metadata": {},
   "source": [
    "Use a ComponentReference to link SubComponents in a multi-level hierarchy"
   ]
  },
  {
   "cell_type": "code",
   "execution_count": null,
   "metadata": {},
   "outputs": [],
   "source": [
    "e0040_subcomponent = next(f for f in i13504.features if f.instance_of == e0040.identity)\n",
    "e0040_reference = ComponentReference(i13504_subcomponent, e0040_subcomponent)\n",
    "i13504_system.features.append(e0040_reference)"
   ]
  },
  {
   "cell_type": "markdown",
   "metadata": {},
   "source": [
    "Make the Interaction.\n",
    "\n",
    "Interaction:  \n",
    "type: SBO:0000589 (genetic production)\n",
    "\n",
    "Participation:  \n",
    "role: SBO:0000645 (template)  \n",
    "participant: e0040_reference  \n",
    "\n",
    "Participation:  \n",
    "role: SBO:0000011 (product)  \n",
    "participant: gfp_subcomponent  "
   ]
  },
  {
   "cell_type": "code",
   "execution_count": null,
   "metadata": {},
   "outputs": [],
   "source": [
    "add_interaction(tyto.SBO.genetic_production,\n",
    "                participants={gfp: tyto.SBO.product, e0040_reference: tyto.SBO.template})"
   ]
  },
  {
   "cell_type": "markdown",
   "metadata": {},
   "source": [
    "## Validate the document\n",
    "`Document.validate` returns a validation report. If the report is empty, the document is valid."
   ]
  },
  {
   "cell_type": "code",
   "execution_count": null,
   "metadata": {},
   "outputs": [],
   "source": [
    "report = doc.validate()\n",
    "if report:\n",
    "    print('Document is not valid')\n",
    "    print(f'Document has {len(report.errors)} errors')\n",
    "    print(f'Document has {len(report.warnings)} warnings')\n",
    "else:\n",
    "    print('Document is valid')"
   ]
  },
  {
   "cell_type": "markdown",
   "metadata": {},
   "source": [
    "# Finally, write the data out to a file"
   ]
  },
  {
   "cell_type": "code",
   "execution_count": null,
   "metadata": {},
   "outputs": [],
   "source": [
    "doc.write('i13504.nt', file_format=SORTED_NTRIPLES)"
   ]
  }
 ],
 "metadata": {
  "kernelspec": {
   "display_name": "Python 3 (ipykernel)",
   "language": "python",
   "name": "python3"
  },
  "language_info": {
   "codemirror_mode": {
    "name": "ipython",
    "version": 3
   },
   "file_extension": ".py",
   "mimetype": "text/x-python",
   "name": "python",
   "nbconvert_exporter": "python",
   "pygments_lexer": "ipython3",
   "version": "3.10.2"
  }
 },
 "nbformat": 4,
 "nbformat_minor": 1
}
