{
 "cells": [
  {
   "cell_type": "markdown",
   "metadata": {},
   "source": [
    "# IWBDA 2022 SBOL 3 Tutorial\n",
    "\n",
    "### October 2022\n",
    "This tutorial code goes with the slides at:\n",
    "\n",
    "https://github.com/SynBioDex/Community-Media/blob/master/2022/IWBDA22/sbol3-workshop/pySBOL3-IWBDA-2022.pptx"
   ]
  },
  {
   "cell_type": "markdown",
   "metadata": {},
   "source": [
    "Import the modules"
   ]
  },
  {
   "cell_type": "code",
   "execution_count": null,
   "metadata": {},
   "outputs": [],
   "source": [
    "from sbol3 import *\n",
    "from sbol_utilities.calculate_sequences import compute_sequence\n",
    "from sbol_utilities.component import *\n",
    "import tyto"
   ]
  },
  {
   "cell_type": "markdown",
   "metadata": {},
   "source": [
    "Set the default namespace for new objects and create a document"
   ]
  },
  {
   "cell_type": "code",
   "execution_count": null,
   "metadata": {},
   "outputs": [],
   "source": []
  },
  {
   "cell_type": "markdown",
   "metadata": {},
   "source": [
    "# Slide 26: GFP expression cassette\n",
    "Construct a simple part and add it to the Document.\n",
    "\n",
    "Component  \n",
    "identity: iGEM#I13504  \n",
    "name: \"iGEM 2016 interlab reporter\"  \n",
    "description: \"GFP expression cassette used for 2016 iGEM interlab\"  \n",
    "type: SBO:0000251 (DNA)  \n",
    "role: SO:0000804 (Engineered Region)  \n",
    "\n",
    "Which properties are required?  Which properties behave as lists?"
   ]
  },
  {
   "cell_type": "code",
   "execution_count": null,
   "metadata": {},
   "outputs": [],
   "source": []
  },
  {
   "cell_type": "markdown",
   "metadata": {},
   "source": [
    "Add the GFP expression cassette to the document"
   ]
  },
  {
   "cell_type": "code",
   "execution_count": null,
   "metadata": {},
   "outputs": [],
   "source": []
  },
  {
   "cell_type": "markdown",
   "metadata": {},
   "source": [
    "# Slide 28: expression cassette parts\n",
    "Here we will create a part-subpart hierarchy. We will also start using (SBOL-Utilities)[https://github.com/synbiodex/sbol-utilities] to make it easier to create parts and to assemble those parts into a hierarchy.\n",
    "\n",
    "First, create the RBS component...\n",
    "\n",
    "Component  \n",
    "identity: B0034  \n",
    "name: RBS (Elowitz 1999)"
   ]
  },
  {
   "cell_type": "code",
   "execution_count": null,
   "metadata": {},
   "outputs": [],
   "source": []
  },
  {
   "cell_type": "markdown",
   "metadata": {},
   "source": [
    "Next, create the GFP component\n",
    "\n",
    "identity: E0040  \n",
    "name: GFP"
   ]
  },
  {
   "cell_type": "code",
   "execution_count": null,
   "metadata": {},
   "outputs": [],
   "source": []
  },
  {
   "cell_type": "markdown",
   "metadata": {},
   "source": [
    "Finally, create the terminator\n",
    "\n",
    "identity: B0015  \n",
    "name: double terminator"
   ]
  },
  {
   "cell_type": "code",
   "execution_count": null,
   "metadata": {},
   "outputs": [],
   "source": []
  },
  {
   "cell_type": "markdown",
   "metadata": {},
   "source": [
    "Now construct the part-subpart hierarchy and order the parts: RBS before CDS, CDS before terminator"
   ]
  },
  {
   "cell_type": "code",
   "execution_count": null,
   "metadata": {},
   "outputs": [],
   "source": []
  },
  {
   "cell_type": "markdown",
   "metadata": {},
   "source": [
    "# Slide 30: Location of a SubComponent\n",
    "\n",
    "Here we add base coordinates to SubComponents.\n",
    "\n",
    "But first, use `compute_sequence` to get the full sequence for the BBa_I13504 device \n",
    "\n",
    "See http://parts.igem.org/Part:BBa_I13504"
   ]
  },
  {
   "cell_type": "code",
   "execution_count": null,
   "metadata": {},
   "outputs": [],
   "source": []
  },
  {
   "cell_type": "markdown",
   "metadata": {},
   "source": [
    "`compute_sequence` added `Range`s to the subcomponents. Check one of those ranges to see that the values are what we expect.\n",
    "\n",
    "The expected range of the terminator is (733, 861)."
   ]
  },
  {
   "cell_type": "code",
   "execution_count": null,
   "metadata": {},
   "outputs": [],
   "source": []
  },
  {
   "cell_type": "markdown",
   "metadata": {},
   "source": [
    "# Slide 32: GFP production from expression cassette\n",
    "In this example, we will create a system representation that includes DNA, proteins, and interactions.\n",
    "\n",
    "First, create the system representation.  `functional_component` creates this for us.\n",
    "\n",
    "Component  \n",
    "identity: i13504_system"
   ]
  },
  {
   "cell_type": "code",
   "execution_count": null,
   "metadata": {},
   "outputs": [],
   "source": []
  },
  {
   "cell_type": "markdown",
   "metadata": {},
   "source": [
    "The system has two physical subcomponents, the expression construct and the expressed GFP protein. We already created the expression construct. Now create the GFP protein.\n",
    "`ed_protein` creates an \"externally defined protein\""
   ]
  },
  {
   "cell_type": "code",
   "execution_count": null,
   "metadata": {},
   "outputs": [],
   "source": []
  },
  {
   "cell_type": "markdown",
   "metadata": {},
   "source": [
    "Now create the part-subpart hierarchy."
   ]
  },
  {
   "cell_type": "code",
   "execution_count": null,
   "metadata": {},
   "outputs": [],
   "source": []
  },
  {
   "cell_type": "markdown",
   "metadata": {},
   "source": [
    "Use a ComponentReference to link SubComponents in a multi-level hierarchy"
   ]
  },
  {
   "cell_type": "code",
   "execution_count": null,
   "metadata": {},
   "outputs": [],
   "source": []
  },
  {
   "cell_type": "markdown",
   "metadata": {},
   "source": [
    "Make the Interaction.\n",
    "\n",
    "Interaction:  \n",
    "type: SBO:0000589 (genetic production)\n",
    "\n",
    "Participation:  \n",
    "role: SBO:0000645 (template)  \n",
    "participant: e0040_reference  \n",
    "\n",
    "Participation:  \n",
    "role: SBO:0000011 (product)  \n",
    "participant: gfp_subcomponent  "
   ]
  },
  {
   "cell_type": "code",
   "execution_count": null,
   "metadata": {},
   "outputs": [],
   "source": []
  },
  {
   "cell_type": "markdown",
   "metadata": {},
   "source": [
    "## Validate the document\n",
    "`Document.validate` returns a validation report. If the report is empty, the document is valid."
   ]
  },
  {
   "cell_type": "code",
   "execution_count": null,
   "metadata": {},
   "outputs": [],
   "source": [
    "report = doc.validate()\n",
    "if report:\n",
    "    print('Document is not valid')\n",
    "    print(f'Document has {len(report.errors)} errors')\n",
    "    print(f'Document has {len(report.warnings)} warnings')\n",
    "else:\n",
    "    print('Document is valid')"
   ]
  },
  {
   "cell_type": "markdown",
   "metadata": {},
   "source": [
    "# Finally, write the data out to a file"
   ]
  },
  {
   "cell_type": "code",
   "execution_count": null,
   "metadata": {},
   "outputs": [],
   "source": []
  }
 ],
 "metadata": {
  "kernelspec": {
   "display_name": "Python 3 (ipykernel)",
   "language": "python",
   "name": "python3"
  },
  "language_info": {
   "codemirror_mode": {
    "name": "ipython",
    "version": 3
   },
   "file_extension": ".py",
   "mimetype": "text/x-python",
   "name": "python",
   "nbconvert_exporter": "python",
   "pygments_lexer": "ipython3",
   "version": "3.10.2"
  }
 },
 "nbformat": 4,
 "nbformat_minor": 1
}
