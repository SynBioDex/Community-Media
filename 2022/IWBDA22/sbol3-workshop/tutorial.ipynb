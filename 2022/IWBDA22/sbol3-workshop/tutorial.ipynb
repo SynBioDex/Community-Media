{
 "cells": [
  {
   "cell_type": "markdown",
   "metadata": {},
   "source": [
    "## IWBDA 2022 SBOL 3 Tutorial\n",
    "\n",
    "October, 2022\n",
    "\n",
    "This tutorial code goes with the slides at:\n",
    "\n",
    "https://github.com/SynBioDex/Community-Media/blob/master/2022/IWBDA22/pySBOL3-IWBDA-2022.pptx"
   ]
  },
  {
   "cell_type": "markdown",
   "metadata": {},
   "source": [
    "Import the module"
   ]
  },
  {
   "cell_type": "code",
   "execution_count": null,
   "metadata": {},
   "outputs": [],
   "source": []
  },
  {
   "cell_type": "markdown",
   "metadata": {},
   "source": [
    "Set the default namespace for new objects and create a document"
   ]
  },
  {
   "cell_type": "code",
   "execution_count": null,
   "metadata": {},
   "outputs": [],
   "source": []
  },
  {
   "cell_type": "markdown",
   "metadata": {},
   "source": [
    "# Slide 26: GFP expression cassette\n",
    "Construct a simple part and add it to the Document.\n",
    "\n",
    "Component\n",
    "identity: iGEM#I13504  \n",
    "name: \"iGEM 2016 interlab reporter\"  \n",
    "description: \"GFP expression cassette used for 2016 iGEM interlab\"  \n",
    "type: SBO:0000251 (DNA)  \n",
    "role: SO:0000804 (Engineered Region)  \n",
    "\n",
    "Which properties are required?  Which properties behave as lists?  See slide 25."
   ]
  },
  {
   "cell_type": "code",
   "execution_count": null,
   "metadata": {},
   "outputs": [],
   "source": []
  },
  {
   "cell_type": "markdown",
   "metadata": {},
   "source": [
    "Add the GFP expression cassette to the document"
   ]
  },
  {
   "cell_type": "code",
   "execution_count": null,
   "metadata": {},
   "outputs": [],
   "source": []
  },
  {
   "cell_type": "markdown",
   "metadata": {},
   "source": [
    "# Slide 28: expression cassette parts\n",
    "Here we will create a part-subpart hierarchy.\n",
    "\n",
    "First, create the RBS component...\n",
    "\n",
    "Component  \n",
    "identity: B0034  \n",
    "name: RBS (Elowitz 1999)  \n",
    "type: SBO:0000251 (DNA)  \n",
    "role: SO:0000139 (Ribosome Entry Site)  \n"
   ]
  },
  {
   "cell_type": "code",
   "execution_count": null,
   "metadata": {},
   "outputs": [],
   "source": []
  },
  {
   "cell_type": "markdown",
   "metadata": {},
   "source": [
    "Next, create the GFP component\n",
    "\n",
    "identity: E0040  \n",
    "name: GFP  \n",
    "type: SBO:0000251 (DNA)  \n",
    "role: SO:0000316 (CDS)  "
   ]
  },
  {
   "cell_type": "code",
   "execution_count": null,
   "metadata": {},
   "outputs": [],
   "source": []
  },
  {
   "cell_type": "markdown",
   "metadata": {},
   "source": [
    "Finally, create the terminator\n",
    "\n",
    "identity: B0015  \n",
    "name: double terminator  \n",
    "type: SBO:0000251 (DNA)  \n",
    "role: SO:0000141 (Terminator)  "
   ]
  },
  {
   "cell_type": "code",
   "execution_count": null,
   "metadata": {},
   "outputs": [],
   "source": []
  },
  {
   "cell_type": "markdown",
   "metadata": {},
   "source": [
    "Now construct the part-subpart hierarchy"
   ]
  },
  {
   "cell_type": "code",
   "execution_count": null,
   "metadata": {},
   "outputs": [],
   "source": []
  },
  {
   "cell_type": "markdown",
   "metadata": {},
   "source": [
    "# Slide 30: Location of a SubComponent\n",
    "\n",
    "First, assign a sequence to the BBa_I13504 device \n",
    "\n",
    "Then we add base coordinates to SubComponents.\n",
    "\n",
    "See http://parts.igem.org/Part:BBa_I13504"
   ]
  },
  {
   "cell_type": "code",
   "execution_count": null,
   "metadata": {},
   "outputs": [],
   "source": []
  },
  {
   "cell_type": "markdown",
   "metadata": {},
   "source": [
    "Add a Range to the B0015 SubComponent. The base coordinates for B0015 are as follows:\n",
    "\n",
    "Range  \n",
    "start: 746  \n",
    "end: 875  \n",
    "\n",
    "pySBOL3 does not yet have an easy way to locate features based on arbitrary criteria so we have to loop over the list to find the B0015 SubComponent we are looking for"
   ]
  },
  {
   "cell_type": "code",
   "execution_count": null,
   "metadata": {},
   "outputs": [],
   "source": []
  },
  {
   "cell_type": "markdown",
   "metadata": {},
   "source": [
    "# Slide 32: GFP production from expression cassette\n",
    "In this example, we will create a system representation that includes DNA, proteins, and interactions.\n",
    "\n",
    "First, create the system representation.  We use the SBO term \"functional entity\" to represent a system.\n",
    "\n",
    "Component\n",
    "identity: i13504_system  \n",
    "type: SBO:0000236  (functional entity)  "
   ]
  },
  {
   "cell_type": "code",
   "execution_count": null,
   "metadata": {},
   "outputs": [],
   "source": []
  },
  {
   "cell_type": "markdown",
   "metadata": {},
   "source": [
    "The system has two physical subcomponents, the expression construct and the expressed GFP protein. We already created the expression construct. Now create the GFP protein."
   ]
  },
  {
   "cell_type": "code",
   "execution_count": null,
   "metadata": {},
   "outputs": [],
   "source": []
  },
  {
   "cell_type": "markdown",
   "metadata": {},
   "source": [
    "Now create the part-subpart hierarchy."
   ]
  },
  {
   "cell_type": "code",
   "execution_count": null,
   "metadata": {},
   "outputs": [],
   "source": []
  },
  {
   "cell_type": "markdown",
   "metadata": {},
   "source": [
    "Use a ComponentReference to link SubComponents in a multi-level hierarchy"
   ]
  },
  {
   "cell_type": "code",
   "execution_count": null,
   "metadata": {},
   "outputs": [],
   "source": []
  },
  {
   "cell_type": "markdown",
   "metadata": {},
   "source": [
    "Make the Interaction.\n",
    "\n",
    "Interaction:  \n",
    "type: SBO:0000589 (genetic production)\n",
    "\n",
    "Participation:  \n",
    "role: SBO:0000645 (template)  \n",
    "participant: e0040_reference  \n",
    "\n",
    "Participation:  \n",
    "role: SBO:0000011 (product)  \n",
    "participant: gfp_subcomponent  "
   ]
  },
  {
   "cell_type": "code",
   "execution_count": null,
   "metadata": {},
   "outputs": [],
   "source": []
  },
  {
   "cell_type": "markdown",
   "metadata": {},
   "source": [
    "# Finally, write the data out to a file"
   ]
  },
  {
   "cell_type": "code",
   "execution_count": null,
   "metadata": {},
   "outputs": [],
   "source": []
  }
 ],
 "metadata": {
  "kernelspec": {
   "display_name": "Python 3 (ipykernel)",
   "language": "python",
   "name": "python3"
  },
  "language_info": {
   "codemirror_mode": {
    "name": "ipython",
    "version": 3
   },
   "file_extension": ".py",
   "mimetype": "text/x-python",
   "name": "python",
   "nbconvert_exporter": "python",
   "pygments_lexer": "ipython3",
   "version": "3.10.2"
  }
 },
 "nbformat": 4,
 "nbformat_minor": 1
}
